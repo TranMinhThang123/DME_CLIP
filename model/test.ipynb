{
 "cells": [
  {
   "cell_type": "code",
   "execution_count": 1,
   "metadata": {},
   "outputs": [],
   "source": [
    "import clip\n",
    "import torch\n",
    "from torch import nn"
   ]
  },
  {
   "cell_type": "code",
   "execution_count": 7,
   "metadata": {},
   "outputs": [],
   "source": [
    "# Hyperparameter Control:\n",
    "depth_templates = ['This {} is {}'] \n",
    "obj_classes=['object']\n",
    "depth_classes =['giant', 'extremely close', 'close','not in distance','a little remote', 'far','unseen'] \n",
    "bin_list=[1.00, 1.50, 2.00, 2.25, 2.50, 2.75, 3.00]\n",
    "temperature=0.1\n",
    "clip_vis = 'RN50'"
   ]
  },
  {
   "cell_type": "code",
   "execution_count": 14,
   "metadata": {},
   "outputs": [],
   "source": [
    "device = torch.device('cuda' if torch.cuda.is_available() else 'cpu')\n",
    "\n",
    "def zeroshot_classifier(depth_classes,obj_classes, templates, model):\n",
    "    with torch.no_grad():\n",
    "        zeroshot_weights = []\n",
    "        for depth in depth_classes:\n",
    "            for obj in obj_classes:\n",
    "                texts = [template.format(obj,depth) for template in templates]  # format with class\n",
    "                texts = clip.tokenize(texts).to(device) # tokenize\n",
    "                class_embeddings = model.encode_text(texts)  # embed with text encoder\n",
    "                class_embeddings /= class_embeddings.norm(dim=-1, keepdim=True)\n",
    "                class_embedding = class_embeddings.mean(dim=0)\n",
    "                class_embedding /= class_embedding.norm()\n",
    "                zeroshot_weights.append(class_embedding)\n",
    "        zeroshot_weights = torch.stack(zeroshot_weights, dim=1).to(device)\n",
    "    return zeroshot_weights\n"
   ]
  },
  {
   "cell_type": "code",
   "execution_count": 15,
   "metadata": {},
   "outputs": [],
   "source": [
    "class CrossAttention(nn.Module):\n",
    "    def __init__(self,batch_size,channel,high,width):\n",
    "        super().__init__()\n",
    "        self.batch_size = batch_size\n",
    "        self.channel = channel\n",
    "        self.high = high\n",
    "        self.width = width\n",
    "        self.layer = nn.MultiheadAttention(embed_dim=self.channel,num_heads=1,kdim=1024,vdim=1024,batch_first=True).to(device)\n",
    "    def forward(self,x,txt):\n",
    "        x = x.reshape(self.batch_size,self.channel,self.high*self.width).permute(0,2,1)\n",
    "        txt = torch.stack([txt.permute(1,0)]*self.batch_size,dim=0)\n",
    "        att_out = self.layer(x,txt,txt)[0]\n",
    "        att_out = att_out.permute(0,2,1).reshape(self.batch_size,self.channel,self.high,self.width)\n",
    "        return att_out\n",
    "\n"
   ]
  },
  {
   "cell_type": "code",
   "execution_count": 33,
   "metadata": {},
   "outputs": [],
   "source": [
    "class ConvBlock(nn.Module):\n",
    "    def __init__(self,in_channel,out_channel) -> None:\n",
    "        super().__init__()\n",
    "        self.layer =    nn.Sequential(nn.Conv2d(in_channels=in_channel,out_channels=out_channel,kernel_size=3,padding=1).to(device),\n",
    "                        nn.ReLU().to(device),\n",
    "                        nn.Conv2d(in_channels=out_channel,out_channels=out_channel,kernel_size=3,padding=1).to(device))\n",
    "    def forward(self,x):\n",
    "        x = self.layer(x)\n",
    "        return x\n"
   ]
  },
  {
   "cell_type": "code",
   "execution_count": 34,
   "metadata": {},
   "outputs": [],
   "source": [
    "\n",
    "class TestModel(nn.Module):\n",
    "    def __init__(self,clip_vis):\n",
    "        super().__init__()\n",
    "        clip_model,_ = clip.load(clip_vis)\n",
    "        self.model = clip_model.visual\n",
    "        self.text_f = zeroshot_classifier(depth_classes, obj_classes, depth_templates, clip_model).to(torch.float32) # init text feature\n",
    "        \n",
    "\n",
    "        self.cross_att_list = nn.ModuleList([CrossAttention(1,2048,15,20),\n",
    "                                             CrossAttention(1,1024,30,40),\n",
    "                                             CrossAttention(1,512,60,80),\n",
    "                                             CrossAttention(1,256,120,160)])\n",
    "        self.up_layer = nn.ModuleList([nn.ConvTranspose2d(2048,1024,kernel_size=2,stride=2).to(device),\n",
    "                                       nn.ConvTranspose2d(1024,512,kernel_size=2,stride=2).to(device),\n",
    "                                       nn.ConvTranspose2d(512,256,kernel_size=2,stride=2).to(device),\n",
    "                                       nn.ConvTranspose2d(256,128,kernel_size=2,stride=2).to(device)])\n",
    "        self.conv_block = nn.ModuleList([ConvBlock(2048,1024),\n",
    "                                         ConvBlock(1024,512),\n",
    "                                         ConvBlock(512,256)])\n",
    "\n",
    "        self.last_layer_depth = nn.Sequential(\n",
    "            nn.Conv2d(128,64,kernel_size=3,stride=1,padding=1).to(device),\n",
    "            nn.ReLU().to(device),\n",
    "            nn.ConvTranspose2d(64,64,kernel_size=2,stride=2).to(device),\n",
    "            nn.ReLU().to(device),\n",
    "            nn.Conv2d(64,1,kernel_size=3,stride=1,padding=1).to(device)\n",
    "        )\n",
    "\n",
    "        self.max_depth = 10.\n",
    "        self.text_f.requires_grad = False\n",
    "        for param in self.model.parameters():\n",
    "            param.requires_grad = False\n",
    "        \n",
    "    def compute_feature_map(self,x):\n",
    "        def stem(x):\n",
    "            x = self.model.relu1(self.model.bn1(self.model.conv1(x)))\n",
    "            x = self.model.relu2(self.model.bn2(self.model.conv2(x)))\n",
    "            x = self.model.relu3(self.model.bn3(self.model.conv3(x)))\n",
    "            x = self.model.avgpool(x)\n",
    "            return x\n",
    "\n",
    "        x = x.type(self.model.conv1.weight.dtype)\n",
    "        x = stem(x)\n",
    "\n",
    "        feature_map1 = self.model.layer1(x)\n",
    "        feature_map2 = self.model.layer2(feature_map1)\n",
    "        feature_map3 = self.model.layer3(feature_map2)\n",
    "        feature_map4 = self.model.layer4(feature_map3)\n",
    "        return feature_map4.to(torch.float32),feature_map3.to(torch.float32),feature_map2.to(torch.float32),feature_map1.to(torch.float32)\n",
    "        \n",
    "    def forward(self,x):\n",
    "        feature_map4,feature_map3,feature_map2,feature_map1 = self.compute_feature_map(x)\n",
    "        \n",
    "        attention1 = self.cross_att_list[0](feature_map4,self.text_f)\n",
    "        output1 = self.up_layer[0](attention1)\n",
    "\n",
    "        attention2 = self.cross_att_list[1](feature_map3,self.text_f)\n",
    "        output2 = torch.cat((attention2,output1),dim=1)\n",
    "        output2 = self.conv_block[0](output2)\n",
    "        output2 = self.up_layer[1](output2)\n",
    "\n",
    "        attention3 = self.cross_att_list[2](feature_map2,self.text_f)\n",
    "        output3 = torch.cat((attention3,output2),dim=1)\n",
    "        output3 = self.conv_block[1](output3)\n",
    "        output3 = self.up_layer[2](output3)\n",
    "\n",
    "        attention4 = self.cross_att_list[3](feature_map1,self.text_f)\n",
    "        output4 = torch.cat((attention4,output3),dim=1)\n",
    "        output4 = self.conv_block[2](output4)\n",
    "        output4 = self.up_layer[3](output4)\n",
    "\n",
    "        \n",
    "        output = self.last_layer_depth(output4)\n",
    "        output = torch.sigmoid(output)*self.max_depth\n",
    "        return output    \n"
   ]
  },
  {
   "cell_type": "code",
   "execution_count": 35,
   "metadata": {},
   "outputs": [],
   "source": [
    "model = TestModel(\"RN50\")"
   ]
  },
  {
   "cell_type": "code",
   "execution_count": 37,
   "metadata": {},
   "outputs": [],
   "source": [
    "for name,param in model.named_parameters():\n",
    "    if param.requires_grad:\n",
    "        pass"
   ]
  },
  {
   "cell_type": "code",
   "execution_count": 39,
   "metadata": {},
   "outputs": [
    {
     "data": {
      "text/plain": [
       "torch.Size([1, 1, 480, 640])"
      ]
     },
     "execution_count": 39,
     "metadata": {},
     "output_type": "execute_result"
    }
   ],
   "source": [
    "x = torch.rand(1,3,480,640).to(device)\n",
    "x = model(x)\n",
    "x.shape"
   ]
  },
  {
   "cell_type": "code",
   "execution_count": 5,
   "metadata": {},
   "outputs": [
    {
     "name": "stdout",
     "output_type": "stream",
     "text": [
      "before interpolation:  torch.Size([1, 1, 480, 640])\n",
      "after interpolation:  torch.Size([1, 1, 480, 640])\n"
     ]
    }
   ],
   "source": [
    "import torch\n",
    "import torch.nn as nn\n",
    "pred = torch.randn((1,1,480,640))\n",
    "print(\"before interpolation: \",pred.shape)\n",
    "pred = nn.functional.interpolate(pred,(480,640),mode=\"bilinear\",align_corners=True)\n",
    "print(\"after interpolation: \",pred.shape)"
   ]
  },
  {
   "cell_type": "code",
   "execution_count": null,
   "metadata": {},
   "outputs": [],
   "source": []
  }
 ],
 "metadata": {
  "kernelspec": {
   "display_name": "table_str",
   "language": "python",
   "name": "python3"
  },
  "language_info": {
   "codemirror_mode": {
    "name": "ipython",
    "version": 3
   },
   "file_extension": ".py",
   "mimetype": "text/x-python",
   "name": "python",
   "nbconvert_exporter": "python",
   "pygments_lexer": "ipython3",
   "version": "3.8.17"
  }
 },
 "nbformat": 4,
 "nbformat_minor": 2
}
